{
 "cells": [
  {
   "cell_type": "code",
   "execution_count": null,
   "id": "53cf61bf-b086-463a-a68d-129a781b6419",
   "metadata": {},
   "outputs": [],
   "source": [
    "import numpy as np"
   ]
  },
  {
   "cell_type": "code",
   "execution_count": null,
   "id": "f92dde26-c023-43f8-bdf3-9cc40565f44e",
   "metadata": {},
   "outputs": [],
   "source": [
    "import pandas as pd"
   ]
  },
  {
   "cell_type": "code",
   "execution_count": null,
   "id": "8db540e4-585c-497e-aa29-d7920bc696b4",
   "metadata": {},
   "outputs": [],
   "source": [
    "covid=pd.read_csv('Downloads/covid-data (1).csv')"
   ]
  },
  {
   "cell_type": "code",
   "execution_count": 10,
   "id": "52079f39-bf83-453b-bc74-8c6f0824b760",
   "metadata": {},
   "outputs": [
    {
     "data": {
      "text/html": [
       "<div>\n",
       "<style scoped>\n",
       "    .dataframe tbody tr th:only-of-type {\n",
       "        vertical-align: middle;\n",
       "    }\n",
       "\n",
       "    .dataframe tbody tr th {\n",
       "        vertical-align: top;\n",
       "    }\n",
       "\n",
       "    .dataframe thead th {\n",
       "        text-align: right;\n",
       "    }\n",
       "</style>\n",
       "<table border=\"1\" class=\"dataframe\">\n",
       "  <thead>\n",
       "    <tr style=\"text-align: right;\">\n",
       "      <th></th>\n",
       "      <th>iso_code</th>\n",
       "      <th>continent</th>\n",
       "      <th>location</th>\n",
       "      <th>date</th>\n",
       "      <th>total_cases</th>\n",
       "      <th>new_cases</th>\n",
       "      <th>new_cases_smoothed</th>\n",
       "      <th>total_deaths</th>\n",
       "      <th>new_deaths</th>\n",
       "      <th>new_deaths_smoothed</th>\n",
       "      <th>...</th>\n",
       "      <th>population</th>\n",
       "      <th>population_density</th>\n",
       "      <th>aged_65_older</th>\n",
       "      <th>aged_70_older</th>\n",
       "      <th>gdp_per_capita</th>\n",
       "      <th>cardiovasc_death_rate</th>\n",
       "      <th>diabetes_prevalence</th>\n",
       "      <th>hospital_beds_per_thousand</th>\n",
       "      <th>life_expectancy</th>\n",
       "      <th>human_development_index</th>\n",
       "    </tr>\n",
       "  </thead>\n",
       "  <tbody>\n",
       "    <tr>\n",
       "      <th>0</th>\n",
       "      <td>AFG</td>\n",
       "      <td>Asia</td>\n",
       "      <td>Afghanistan</td>\n",
       "      <td>24-02-2020</td>\n",
       "      <td>5</td>\n",
       "      <td>5</td>\n",
       "      <td>0.000</td>\n",
       "      <td>0</td>\n",
       "      <td>0</td>\n",
       "      <td>0.0</td>\n",
       "      <td>...</td>\n",
       "      <td>40099462</td>\n",
       "      <td>54.422</td>\n",
       "      <td>2.581</td>\n",
       "      <td>1.337</td>\n",
       "      <td>1803.987</td>\n",
       "      <td>597.029</td>\n",
       "      <td>9.59</td>\n",
       "      <td>0.5</td>\n",
       "      <td>64.83</td>\n",
       "      <td>0.511</td>\n",
       "    </tr>\n",
       "    <tr>\n",
       "      <th>1</th>\n",
       "      <td>AFG</td>\n",
       "      <td>Asia</td>\n",
       "      <td>Afghanistan</td>\n",
       "      <td>25-02-2020</td>\n",
       "      <td>5</td>\n",
       "      <td>0</td>\n",
       "      <td>0.000</td>\n",
       "      <td>0</td>\n",
       "      <td>0</td>\n",
       "      <td>0.0</td>\n",
       "      <td>...</td>\n",
       "      <td>40099462</td>\n",
       "      <td>54.422</td>\n",
       "      <td>2.581</td>\n",
       "      <td>1.337</td>\n",
       "      <td>1803.987</td>\n",
       "      <td>597.029</td>\n",
       "      <td>9.59</td>\n",
       "      <td>0.5</td>\n",
       "      <td>64.83</td>\n",
       "      <td>0.511</td>\n",
       "    </tr>\n",
       "    <tr>\n",
       "      <th>2</th>\n",
       "      <td>AFG</td>\n",
       "      <td>Asia</td>\n",
       "      <td>Afghanistan</td>\n",
       "      <td>26-02-2020</td>\n",
       "      <td>5</td>\n",
       "      <td>0</td>\n",
       "      <td>0.000</td>\n",
       "      <td>0</td>\n",
       "      <td>0</td>\n",
       "      <td>0.0</td>\n",
       "      <td>...</td>\n",
       "      <td>40099462</td>\n",
       "      <td>54.422</td>\n",
       "      <td>2.581</td>\n",
       "      <td>1.337</td>\n",
       "      <td>1803.987</td>\n",
       "      <td>597.029</td>\n",
       "      <td>9.59</td>\n",
       "      <td>0.5</td>\n",
       "      <td>64.83</td>\n",
       "      <td>0.511</td>\n",
       "    </tr>\n",
       "    <tr>\n",
       "      <th>3</th>\n",
       "      <td>AFG</td>\n",
       "      <td>Asia</td>\n",
       "      <td>Afghanistan</td>\n",
       "      <td>27-02-2020</td>\n",
       "      <td>5</td>\n",
       "      <td>0</td>\n",
       "      <td>0.000</td>\n",
       "      <td>0</td>\n",
       "      <td>0</td>\n",
       "      <td>0.0</td>\n",
       "      <td>...</td>\n",
       "      <td>40099462</td>\n",
       "      <td>54.422</td>\n",
       "      <td>2.581</td>\n",
       "      <td>1.337</td>\n",
       "      <td>1803.987</td>\n",
       "      <td>597.029</td>\n",
       "      <td>9.59</td>\n",
       "      <td>0.5</td>\n",
       "      <td>64.83</td>\n",
       "      <td>0.511</td>\n",
       "    </tr>\n",
       "    <tr>\n",
       "      <th>4</th>\n",
       "      <td>AFG</td>\n",
       "      <td>Asia</td>\n",
       "      <td>Afghanistan</td>\n",
       "      <td>28-02-2020</td>\n",
       "      <td>5</td>\n",
       "      <td>0</td>\n",
       "      <td>0.000</td>\n",
       "      <td>0</td>\n",
       "      <td>0</td>\n",
       "      <td>0.0</td>\n",
       "      <td>...</td>\n",
       "      <td>40099462</td>\n",
       "      <td>54.422</td>\n",
       "      <td>2.581</td>\n",
       "      <td>1.337</td>\n",
       "      <td>1803.987</td>\n",
       "      <td>597.029</td>\n",
       "      <td>9.59</td>\n",
       "      <td>0.5</td>\n",
       "      <td>64.83</td>\n",
       "      <td>0.511</td>\n",
       "    </tr>\n",
       "    <tr>\n",
       "      <th>...</th>\n",
       "      <td>...</td>\n",
       "      <td>...</td>\n",
       "      <td>...</td>\n",
       "      <td>...</td>\n",
       "      <td>...</td>\n",
       "      <td>...</td>\n",
       "      <td>...</td>\n",
       "      <td>...</td>\n",
       "      <td>...</td>\n",
       "      <td>...</td>\n",
       "      <td>...</td>\n",
       "      <td>...</td>\n",
       "      <td>...</td>\n",
       "      <td>...</td>\n",
       "      <td>...</td>\n",
       "      <td>...</td>\n",
       "      <td>...</td>\n",
       "      <td>...</td>\n",
       "      <td>...</td>\n",
       "      <td>...</td>\n",
       "      <td>...</td>\n",
       "    </tr>\n",
       "    <tr>\n",
       "      <th>189994</th>\n",
       "      <td>TWN</td>\n",
       "      <td>Asia</td>\n",
       "      <td>Taiwan</td>\n",
       "      <td>07-02-2020</td>\n",
       "      <td>16</td>\n",
       "      <td>0</td>\n",
       "      <td>0.857</td>\n",
       "      <td>0</td>\n",
       "      <td>0</td>\n",
       "      <td>0.0</td>\n",
       "      <td>...</td>\n",
       "      <td>23859912</td>\n",
       "      <td>0.000</td>\n",
       "      <td>0.000</td>\n",
       "      <td>8.353</td>\n",
       "      <td>0.000</td>\n",
       "      <td>103.957</td>\n",
       "      <td>0.00</td>\n",
       "      <td>0.0</td>\n",
       "      <td>80.46</td>\n",
       "      <td>0.000</td>\n",
       "    </tr>\n",
       "    <tr>\n",
       "      <th>189995</th>\n",
       "      <td>TWN</td>\n",
       "      <td>Asia</td>\n",
       "      <td>Taiwan</td>\n",
       "      <td>08-02-2020</td>\n",
       "      <td>17</td>\n",
       "      <td>1</td>\n",
       "      <td>1.000</td>\n",
       "      <td>0</td>\n",
       "      <td>0</td>\n",
       "      <td>0.0</td>\n",
       "      <td>...</td>\n",
       "      <td>23859912</td>\n",
       "      <td>0.000</td>\n",
       "      <td>0.000</td>\n",
       "      <td>8.353</td>\n",
       "      <td>0.000</td>\n",
       "      <td>103.957</td>\n",
       "      <td>0.00</td>\n",
       "      <td>0.0</td>\n",
       "      <td>80.46</td>\n",
       "      <td>0.000</td>\n",
       "    </tr>\n",
       "    <tr>\n",
       "      <th>189996</th>\n",
       "      <td>TWN</td>\n",
       "      <td>Asia</td>\n",
       "      <td>Taiwan</td>\n",
       "      <td>09-02-2020</td>\n",
       "      <td>18</td>\n",
       "      <td>1</td>\n",
       "      <td>1.143</td>\n",
       "      <td>0</td>\n",
       "      <td>0</td>\n",
       "      <td>0.0</td>\n",
       "      <td>...</td>\n",
       "      <td>23859912</td>\n",
       "      <td>0.000</td>\n",
       "      <td>0.000</td>\n",
       "      <td>8.353</td>\n",
       "      <td>0.000</td>\n",
       "      <td>103.957</td>\n",
       "      <td>0.00</td>\n",
       "      <td>0.0</td>\n",
       "      <td>80.46</td>\n",
       "      <td>0.000</td>\n",
       "    </tr>\n",
       "    <tr>\n",
       "      <th>189997</th>\n",
       "      <td>TWN</td>\n",
       "      <td>Asia</td>\n",
       "      <td>Taiwan</td>\n",
       "      <td>10-02-2020</td>\n",
       "      <td>18</td>\n",
       "      <td>0</td>\n",
       "      <td>1.143</td>\n",
       "      <td>0</td>\n",
       "      <td>0</td>\n",
       "      <td>0.0</td>\n",
       "      <td>...</td>\n",
       "      <td>23859912</td>\n",
       "      <td>0.000</td>\n",
       "      <td>0.000</td>\n",
       "      <td>8.353</td>\n",
       "      <td>0.000</td>\n",
       "      <td>103.957</td>\n",
       "      <td>0.00</td>\n",
       "      <td>0.0</td>\n",
       "      <td>80.46</td>\n",
       "      <td>0.000</td>\n",
       "    </tr>\n",
       "    <tr>\n",
       "      <th>189998</th>\n",
       "      <td>TLS</td>\n",
       "      <td>Asia</td>\n",
       "      <td>Timor</td>\n",
       "      <td>01-08-2021</td>\n",
       "      <td>10966</td>\n",
       "      <td>68</td>\n",
       "      <td>88.286</td>\n",
       "      <td>26</td>\n",
       "      <td>0</td>\n",
       "      <td>0.0</td>\n",
       "      <td>...</td>\n",
       "      <td>1320942</td>\n",
       "      <td>87.176</td>\n",
       "      <td>3.556</td>\n",
       "      <td>1.897</td>\n",
       "      <td>6570.102</td>\n",
       "      <td>335.346</td>\n",
       "      <td>6.86</td>\n",
       "      <td>5.9</td>\n",
       "      <td>69.50</td>\n",
       "      <td>0.606</td>\n",
       "    </tr>\n",
       "  </tbody>\n",
       "</table>\n",
       "<p>189999 rows × 34 columns</p>\n",
       "</div>"
      ],
      "text/plain": [
       "       iso_code continent     location        date  total_cases  new_cases  \\\n",
       "0           AFG      Asia  Afghanistan  24-02-2020            5          5   \n",
       "1           AFG      Asia  Afghanistan  25-02-2020            5          0   \n",
       "2           AFG      Asia  Afghanistan  26-02-2020            5          0   \n",
       "3           AFG      Asia  Afghanistan  27-02-2020            5          0   \n",
       "4           AFG      Asia  Afghanistan  28-02-2020            5          0   \n",
       "...         ...       ...          ...         ...          ...        ...   \n",
       "189994      TWN      Asia       Taiwan  07-02-2020           16          0   \n",
       "189995      TWN      Asia       Taiwan  08-02-2020           17          1   \n",
       "189996      TWN      Asia       Taiwan  09-02-2020           18          1   \n",
       "189997      TWN      Asia       Taiwan  10-02-2020           18          0   \n",
       "189998      TLS      Asia        Timor  01-08-2021        10966         68   \n",
       "\n",
       "        new_cases_smoothed  total_deaths  new_deaths  new_deaths_smoothed  \\\n",
       "0                    0.000             0           0                  0.0   \n",
       "1                    0.000             0           0                  0.0   \n",
       "2                    0.000             0           0                  0.0   \n",
       "3                    0.000             0           0                  0.0   \n",
       "4                    0.000             0           0                  0.0   \n",
       "...                    ...           ...         ...                  ...   \n",
       "189994               0.857             0           0                  0.0   \n",
       "189995               1.000             0           0                  0.0   \n",
       "189996               1.143             0           0                  0.0   \n",
       "189997               1.143             0           0                  0.0   \n",
       "189998              88.286            26           0                  0.0   \n",
       "\n",
       "        ...  population  population_density  aged_65_older  aged_70_older  \\\n",
       "0       ...    40099462              54.422          2.581          1.337   \n",
       "1       ...    40099462              54.422          2.581          1.337   \n",
       "2       ...    40099462              54.422          2.581          1.337   \n",
       "3       ...    40099462              54.422          2.581          1.337   \n",
       "4       ...    40099462              54.422          2.581          1.337   \n",
       "...     ...         ...                 ...            ...            ...   \n",
       "189994  ...    23859912               0.000          0.000          8.353   \n",
       "189995  ...    23859912               0.000          0.000          8.353   \n",
       "189996  ...    23859912               0.000          0.000          8.353   \n",
       "189997  ...    23859912               0.000          0.000          8.353   \n",
       "189998  ...     1320942              87.176          3.556          1.897   \n",
       "\n",
       "        gdp_per_capita  cardiovasc_death_rate  diabetes_prevalence  \\\n",
       "0             1803.987                597.029                 9.59   \n",
       "1             1803.987                597.029                 9.59   \n",
       "2             1803.987                597.029                 9.59   \n",
       "3             1803.987                597.029                 9.59   \n",
       "4             1803.987                597.029                 9.59   \n",
       "...                ...                    ...                  ...   \n",
       "189994           0.000                103.957                 0.00   \n",
       "189995           0.000                103.957                 0.00   \n",
       "189996           0.000                103.957                 0.00   \n",
       "189997           0.000                103.957                 0.00   \n",
       "189998        6570.102                335.346                 6.86   \n",
       "\n",
       "       hospital_beds_per_thousand  life_expectancy  human_development_index  \n",
       "0                             0.5            64.83                    0.511  \n",
       "1                             0.5            64.83                    0.511  \n",
       "2                             0.5            64.83                    0.511  \n",
       "3                             0.5            64.83                    0.511  \n",
       "4                             0.5            64.83                    0.511  \n",
       "...                           ...              ...                      ...  \n",
       "189994                        0.0            80.46                    0.000  \n",
       "189995                        0.0            80.46                    0.000  \n",
       "189996                        0.0            80.46                    0.000  \n",
       "189997                        0.0            80.46                    0.000  \n",
       "189998                        5.9            69.50                    0.606  \n",
       "\n",
       "[189999 rows x 34 columns]"
      ]
     },
     "execution_count": 10,
     "metadata": {},
     "output_type": "execute_result"
    }
   ],
   "source": [
    "covid"
   ]
  },
  {
   "cell_type": "code",
   "execution_count": 10,
   "id": "dfa03cc3-5577-4527-a727-70062911aa51",
   "metadata": {},
   "outputs": [
    {
     "name": "stdout",
     "output_type": "stream",
     "text": [
      "<class 'pandas.core.frame.DataFrame'>\n",
      "RangeIndex: 189999 entries, 0 to 189998\n",
      "Data columns (total 34 columns):\n",
      " #   Column                      Non-Null Count   Dtype  \n",
      "---  ------                      --------------   -----  \n",
      " 0   iso_code                    189999 non-null  object \n",
      " 1   continent                   179435 non-null  object \n",
      " 2   location                    189999 non-null  object \n",
      " 3   date                        189999 non-null  object \n",
      " 4   total_cases                 189999 non-null  int64  \n",
      " 5   new_cases                   189999 non-null  int64  \n",
      " 6   new_cases_smoothed          189999 non-null  float64\n",
      " 7   total_deaths                189999 non-null  int64  \n",
      " 8   new_deaths                  189999 non-null  int64  \n",
      " 9   new_deaths_smoothed         189999 non-null  float64\n",
      " 10  total_cases_per_million     189999 non-null  float64\n",
      " 11  new_cases_per_million       189999 non-null  float64\n",
      " 12  total_deaths_per_million    189999 non-null  float64\n",
      " 13  reproduction_rate           189999 non-null  float64\n",
      " 14  hosp_patients               189999 non-null  int64  \n",
      " 15  total_tests                 189999 non-null  int64  \n",
      " 16  positive_rate               189999 non-null  float64\n",
      " 17  tests_units                 189999 non-null  object \n",
      " 18  total_vaccinations          189999 non-null  int64  \n",
      " 19  people_vaccinated           189999 non-null  int64  \n",
      " 20  people_fully_vaccinated     189999 non-null  int64  \n",
      " 21  total_boosters              189999 non-null  int64  \n",
      " 22  new_vaccinations            189999 non-null  int64  \n",
      " 23  stringency_index            189999 non-null  float64\n",
      " 24  population                  189999 non-null  int64  \n",
      " 25  population_density          189999 non-null  float64\n",
      " 26  aged_65_older               189999 non-null  float64\n",
      " 27  aged_70_older               189999 non-null  float64\n",
      " 28  gdp_per_capita              189999 non-null  float64\n",
      " 29  cardiovasc_death_rate       189999 non-null  float64\n",
      " 30  diabetes_prevalence         189999 non-null  float64\n",
      " 31  hospital_beds_per_thousand  189999 non-null  float64\n",
      " 32  life_expectancy             189999 non-null  float64\n",
      " 33  human_development_index     189999 non-null  float64\n",
      "dtypes: float64(17), int64(12), object(5)\n",
      "memory usage: 49.3+ MB\n"
     ]
    }
   ],
   "source": [
    "covid.info()"
   ]
  },
  {
   "cell_type": "markdown",
   "id": "67df142f-33d0-4880-8699-35250ffc1b40",
   "metadata": {},
   "source": [
    "### Data Assessment"
   ]
  },
  {
   "cell_type": "code",
   "execution_count": 11,
   "id": "605db4cd-6a8e-43a8-a6bb-4d4cafca7b5f",
   "metadata": {},
   "outputs": [],
   "source": [
    "#Checking for null values:Continent"
   ]
  },
  {
   "cell_type": "code",
   "execution_count": 12,
   "id": "4d6b15c1-82e2-4727-91c6-a1c7d01e3d64",
   "metadata": {},
   "outputs": [
    {
     "data": {
      "text/plain": [
       "iso_code                          0\n",
       "continent                     10564\n",
       "location                          0\n",
       "date                              0\n",
       "total_cases                       0\n",
       "new_cases                         0\n",
       "new_cases_smoothed                0\n",
       "total_deaths                      0\n",
       "new_deaths                        0\n",
       "new_deaths_smoothed               0\n",
       "total_cases_per_million           0\n",
       "new_cases_per_million             0\n",
       "total_deaths_per_million          0\n",
       "reproduction_rate                 0\n",
       "hosp_patients                     0\n",
       "total_tests                       0\n",
       "positive_rate                     0\n",
       "tests_units                       0\n",
       "total_vaccinations                0\n",
       "people_vaccinated                 0\n",
       "people_fully_vaccinated           0\n",
       "total_boosters                    0\n",
       "new_vaccinations                  0\n",
       "stringency_index                  0\n",
       "population                        0\n",
       "population_density                0\n",
       "aged_65_older                     0\n",
       "aged_70_older                     0\n",
       "gdp_per_capita                    0\n",
       "cardiovasc_death_rate             0\n",
       "diabetes_prevalence               0\n",
       "hospital_beds_per_thousand        0\n",
       "life_expectancy                   0\n",
       "human_development_index           0\n",
       "dtype: int64"
      ]
     },
     "execution_count": 12,
     "metadata": {},
     "output_type": "execute_result"
    }
   ],
   "source": [
    "covid.isnull().sum()"
   ]
  },
  {
   "cell_type": "code",
   "execution_count": 13,
   "id": "409daf7b-cdbb-4688-9c7c-b2db5942204f",
   "metadata": {},
   "outputs": [
    {
     "name": "stderr",
     "output_type": "stream",
     "text": [
      "C:\\Users\\kramo\\AppData\\Local\\Temp\\ipykernel_4380\\2279442549.py:1: FutureWarning: A value is trying to be set on a copy of a DataFrame or Series through chained assignment using an inplace method.\n",
      "The behavior will change in pandas 3.0. This inplace method will never work because the intermediate object on which we are setting values always behaves as a copy.\n",
      "\n",
      "For example, when doing 'df[col].method(value, inplace=True)', try using 'df.method({col: value}, inplace=True)' or df[col] = df[col].method(value) instead, to perform the operation inplace on the original object.\n",
      "\n",
      "\n",
      "  covid['continent'].fillna('Unknown',inplace=True)\n"
     ]
    }
   ],
   "source": [
    "covid['continent'].fillna('Unknown',inplace=True)"
   ]
  },
  {
   "cell_type": "code",
   "execution_count": 14,
   "id": "7743a596-2975-45b3-a24f-52424b1f5546",
   "metadata": {},
   "outputs": [
    {
     "data": {
      "text/plain": [
       "iso_code                      0\n",
       "continent                     0\n",
       "location                      0\n",
       "date                          0\n",
       "total_cases                   0\n",
       "new_cases                     0\n",
       "new_cases_smoothed            0\n",
       "total_deaths                  0\n",
       "new_deaths                    0\n",
       "new_deaths_smoothed           0\n",
       "total_cases_per_million       0\n",
       "new_cases_per_million         0\n",
       "total_deaths_per_million      0\n",
       "reproduction_rate             0\n",
       "hosp_patients                 0\n",
       "total_tests                   0\n",
       "positive_rate                 0\n",
       "tests_units                   0\n",
       "total_vaccinations            0\n",
       "people_vaccinated             0\n",
       "people_fully_vaccinated       0\n",
       "total_boosters                0\n",
       "new_vaccinations              0\n",
       "stringency_index              0\n",
       "population                    0\n",
       "population_density            0\n",
       "aged_65_older                 0\n",
       "aged_70_older                 0\n",
       "gdp_per_capita                0\n",
       "cardiovasc_death_rate         0\n",
       "diabetes_prevalence           0\n",
       "hospital_beds_per_thousand    0\n",
       "life_expectancy               0\n",
       "human_development_index       0\n",
       "dtype: int64"
      ]
     },
     "execution_count": 14,
     "metadata": {},
     "output_type": "execute_result"
    }
   ],
   "source": [
    "covid.isnull().sum()"
   ]
  },
  {
   "cell_type": "code",
   "execution_count": null,
   "id": "dbe61648-b644-4850-ba1a-5b87f46bdb13",
   "metadata": {},
   "outputs": [],
   "source": [
    "#Checking for duplicates"
   ]
  },
  {
   "cell_type": "code",
   "execution_count": 15,
   "id": "4d2ac5a6-64f2-4291-8db0-cc82f63010bd",
   "metadata": {},
   "outputs": [
    {
     "data": {
      "text/plain": [
       "0"
      ]
     },
     "execution_count": 15,
     "metadata": {},
     "output_type": "execute_result"
    }
   ],
   "source": [
    "covid.duplicated().sum()"
   ]
  },
  {
   "cell_type": "code",
   "execution_count": 22,
   "id": "8389a53d-339c-4cdc-bba6-15d75fa09e20",
   "metadata": {},
   "outputs": [],
   "source": [
    "#checking for incorrect datatypes"
   ]
  },
  {
   "cell_type": "code",
   "execution_count": 19,
   "id": "80ad110b-27d3-4eaf-aaa9-0201d48c6cce",
   "metadata": {},
   "outputs": [
    {
     "name": "stdout",
     "output_type": "stream",
     "text": [
      "<class 'pandas.core.frame.DataFrame'>\n",
      "RangeIndex: 189999 entries, 0 to 189998\n",
      "Data columns (total 34 columns):\n",
      " #   Column                      Non-Null Count   Dtype  \n",
      "---  ------                      --------------   -----  \n",
      " 0   iso_code                    189999 non-null  object \n",
      " 1   continent                   189999 non-null  object \n",
      " 2   location                    189999 non-null  object \n",
      " 3   date                        189999 non-null  object \n",
      " 4   total_cases                 189999 non-null  int64  \n",
      " 5   new_cases                   189999 non-null  int64  \n",
      " 6   new_cases_smoothed          189999 non-null  float64\n",
      " 7   total_deaths                189999 non-null  int64  \n",
      " 8   new_deaths                  189999 non-null  int64  \n",
      " 9   new_deaths_smoothed         189999 non-null  float64\n",
      " 10  total_cases_per_million     189999 non-null  float64\n",
      " 11  new_cases_per_million       189999 non-null  float64\n",
      " 12  total_deaths_per_million    189999 non-null  float64\n",
      " 13  reproduction_rate           189999 non-null  float64\n",
      " 14  hosp_patients               189999 non-null  int64  \n",
      " 15  total_tests                 189999 non-null  int64  \n",
      " 16  positive_rate               189999 non-null  float64\n",
      " 17  tests_units                 189999 non-null  object \n",
      " 18  total_vaccinations          189999 non-null  int64  \n",
      " 19  people_vaccinated           189999 non-null  int64  \n",
      " 20  people_fully_vaccinated     189999 non-null  int64  \n",
      " 21  total_boosters              189999 non-null  int64  \n",
      " 22  new_vaccinations            189999 non-null  int64  \n",
      " 23  stringency_index            189999 non-null  float64\n",
      " 24  population                  189999 non-null  int64  \n",
      " 25  population_density          189999 non-null  float64\n",
      " 26  aged_65_older               189999 non-null  float64\n",
      " 27  aged_70_older               189999 non-null  float64\n",
      " 28  gdp_per_capita              189999 non-null  float64\n",
      " 29  cardiovasc_death_rate       189999 non-null  float64\n",
      " 30  diabetes_prevalence         189999 non-null  float64\n",
      " 31  hospital_beds_per_thousand  189999 non-null  float64\n",
      " 32  life_expectancy             189999 non-null  float64\n",
      " 33  human_development_index     189999 non-null  float64\n",
      "dtypes: float64(17), int64(12), object(5)\n",
      "memory usage: 49.3+ MB\n"
     ]
    }
   ],
   "source": [
    "covid.info()"
   ]
  },
  {
   "cell_type": "code",
   "execution_count": 23,
   "id": "2c6524a3-516f-432a-ad46-25c783487495",
   "metadata": {},
   "outputs": [],
   "source": [
    "#checking for incorrect data entries\n",
    "#none"
   ]
  },
  {
   "cell_type": "code",
   "execution_count": null,
   "id": "ddf7d382-544e-40e8-9950-c919a4c43d6f",
   "metadata": {},
   "outputs": [],
   "source": []
  },
  {
   "cell_type": "code",
   "execution_count": null,
   "id": "60b1384f-b392-4e54-acdd-210abd2c63fa",
   "metadata": {},
   "outputs": [],
   "source": [
    "#Mispellings \n",
    "#None"
   ]
  },
  {
   "cell_type": "code",
   "execution_count": 26,
   "id": "3a80a53e-489b-4074-817f-a6f6b7bb5b4b",
   "metadata": {},
   "outputs": [
    {
     "name": "stdout",
     "output_type": "stream",
     "text": [
      "<class 'pandas.core.frame.DataFrame'>\n",
      "RangeIndex: 189999 entries, 0 to 189998\n",
      "Data columns (total 34 columns):\n",
      " #   Column                      Non-Null Count   Dtype  \n",
      "---  ------                      --------------   -----  \n",
      " 0   iso_code                    189999 non-null  object \n",
      " 1   continent                   189999 non-null  object \n",
      " 2   location                    189999 non-null  object \n",
      " 3   date                        189999 non-null  object \n",
      " 4   total_cases                 189999 non-null  int64  \n",
      " 5   new_cases                   189999 non-null  int64  \n",
      " 6   new_cases_smoothed          189999 non-null  float64\n",
      " 7   total_deaths                189999 non-null  int64  \n",
      " 8   new_deaths                  189999 non-null  int64  \n",
      " 9   new_deaths_smoothed         189999 non-null  float64\n",
      " 10  total_cases_per_million     189999 non-null  float64\n",
      " 11  new_cases_per_million       189999 non-null  float64\n",
      " 12  total_deaths_per_million    189999 non-null  float64\n",
      " 13  reproduction_rate           189999 non-null  float64\n",
      " 14  hosp_patients               189999 non-null  int64  \n",
      " 15  total_tests                 189999 non-null  int64  \n",
      " 16  positive_rate               189999 non-null  float64\n",
      " 17  tests_units                 189999 non-null  object \n",
      " 18  total_vaccinations          189999 non-null  int64  \n",
      " 19  people_vaccinated           189999 non-null  int64  \n",
      " 20  people_fully_vaccinated     189999 non-null  int64  \n",
      " 21  total_boosters              189999 non-null  int64  \n",
      " 22  new_vaccinations            189999 non-null  int64  \n",
      " 23  stringency_index            189999 non-null  float64\n",
      " 24  population                  189999 non-null  int64  \n",
      " 25  population_density          189999 non-null  float64\n",
      " 26  aged_65_older               189999 non-null  float64\n",
      " 27  aged_70_older               189999 non-null  float64\n",
      " 28  gdp_per_capita              189999 non-null  float64\n",
      " 29  cardiovasc_death_rate       189999 non-null  float64\n",
      " 30  diabetes_prevalence         189999 non-null  float64\n",
      " 31  hospital_beds_per_thousand  189999 non-null  float64\n",
      " 32  life_expectancy             189999 non-null  float64\n",
      " 33  human_development_index     189999 non-null  float64\n",
      "dtypes: float64(17), int64(12), object(5)\n",
      "memory usage: 49.3+ MB\n"
     ]
    }
   ],
   "source": [
    "covid.info()"
   ]
  },
  {
   "cell_type": "code",
   "execution_count": 29,
   "id": "cae0f4b8-72a1-4b7b-83aa-977f895a9f82",
   "metadata": {},
   "outputs": [],
   "source": [
    "#checking for outliers"
   ]
  },
  {
   "cell_type": "code",
   "execution_count": 30,
   "id": "5296bd15-d04f-4cd2-a3ed-2f8b86cfde65",
   "metadata": {},
   "outputs": [
    {
     "data": {
      "text/plain": [
       "<Axes: >"
      ]
     },
     "execution_count": 30,
     "metadata": {},
     "output_type": "execute_result"
    },
    {
     "data": {
      "image/png": "[encoded data removed]",
      "text/plain": [
       "<Figure size 640x480 with 1 Axes>"
      ]
     },
     "metadata": {},
     "output_type": "display_data"
    }
   ],
   "source": [
    "covid['total_cases'].plot(kind='box')"
   ]
  },
  {
   "cell_type": "code",
   "execution_count": 31,
   "id": "49c8d88e-ffba-4c93-af72-0976885070cf",
   "metadata": {},
   "outputs": [
    {
     "data": {
      "text/plain": [
       "<Axes: >"
      ]
     },
     "execution_count": 31,
     "metadata": {},
     "output_type": "execute_result"
    },
    {
     "data": {
      "image/png": "[encoded data removed]",
      "text/plain": [
       "<Figure size 640x480 with 1 Axes>"
      ]
     },
     "metadata": {},
     "output_type": "display_data"
    }
   ],
   "source": [
    "covid['new_cases'].plot(kind='box')"
   ]
  },
  {
   "cell_type": "code",
   "execution_count": null,
   "id": "8a495abe-cb9d-47ce-8f7f-788ba3d1df57",
   "metadata": {},
   "outputs": [],
   "source": []
  },
  {
   "cell_type": "markdown",
   "id": "eff56f9b-db3d-47c3-9b97-5af56c21d16a",
   "metadata": {},
   "source": [
    "## Exploratory data analysis"
   ]
  },
  {
   "cell_type": "code",
   "execution_count": null,
   "id": "7b672b47-a109-4df2-80c6-17c3d6f72778",
   "metadata": {},
   "outputs": [],
   "source": [
    "import matplotlib.pyplot as plt"
   ]
  },
  {
   "cell_type": "code",
   "execution_count": null,
   "id": "792bbdb2-dd05-42a2-8e65-63d276455d4c",
   "metadata": {},
   "outputs": [],
   "source": [
    "DbC=covid.groupby('continent')['total_deaths'].sum()[0:6]"
   ]
  },
  {
   "cell_type": "code",
   "execution_count": 103,
   "id": "870d5432-0b48-4287-9b54-fff204e95260",
   "metadata": {},
   "outputs": [
    {
     "data": {
      "text/plain": [
       "<Figure size 900x500 with 0 Axes>"
      ]
     },
     "execution_count": 103,
     "metadata": {},
     "output_type": "execute_result"
    },
    {
     "data": {
      "image/png": "[encoded data removed]",
      "text/plain": [
       "<Figure size 640x480 with 1 Axes>"
      ]
     },
     "metadata": {},
     "output_type": "display_data"
    },
    {
     "data": {
      "text/plain": [
       "<Figure size 900x500 with 0 Axes>"
      ]
     },
     "metadata": {},
     "output_type": "display_data"
    }
   ],
   "source": [
    "x=covid['population']\n",
    "y=covid['people_fully_vaccinated']\n",
    "plt.scatter(x,y)\n",
    "plt.title('People vaccinated by population')\n",
    "plt.figure(figsize=(9,5))"
   ]
  },
  {
   "cell_type": "code",
   "execution_count": 67,
   "id": "f66344a3-ab0d-4148-bf9f-045f9472dd79",
   "metadata": {},
   "outputs": [
    {
     "data": {
      "text/plain": [
       "0.5928496803799691"
      ]
     },
     "execution_count": 67,
     "metadata": {},
     "output_type": "execute_result"
    }
   ],
   "source": [
    "covid['population'].corr(covid['people_fully_vaccinated'])"
   ]
  },
  {
   "cell_type": "code",
   "execution_count": null,
   "id": "737249be-55f5-4f81-a62c-1e61c1b9d3ad",
   "metadata": {},
   "outputs": [],
   "source": []
  },
  {
   "cell_type": "markdown",
   "id": "811a3bab-28e2-43eb-9d92-41fa0d1d3c11",
   "metadata": {},
   "source": [
    "#### Total Death by Continents"
   ]
  },
  {
   "cell_type": "code",
   "execution_count": 23,
   "id": "57e326ef-4ab5-4fe9-afc8-8855ff4d687a",
   "metadata": {},
   "outputs": [
    {
     "data": {
      "image/png": "[encoded data removed]",
      "text/plain": [
       "<Figure size 640x480 with 1 Axes>"
      ]
     },
     "metadata": {},
     "output_type": "display_data"
    },
    {
     "data": {
      "text/plain": [
       "<Figure size 1000x500 with 0 Axes>"
      ]
     },
     "metadata": {},
     "output_type": "display_data"
    }
   ],
   "source": [
    "DbC=covid.groupby('continent')['total_deaths'].sum()[0:6].sort_values(ascending=False)\n",
    "plt.bar(DbC.index,DbC.values, color='Brown')\n",
    "plt.title('Covid Total Deaths by Continents')\n",
    "plt.figure(figsize=[10,5])\n",
    "plt.show()\n"
   ]
  },
  {
   "cell_type": "code",
   "execution_count": null,
   "id": "279a9c14-6d5d-4da0-b6cb-b7518306b213",
   "metadata": {},
   "outputs": [],
   "source": []
  },
  {
   "cell_type": "code",
   "execution_count": 20,
   "id": "2ef313bc-62fa-4865-8560-6054320d1e2f",
   "metadata": {},
   "outputs": [
    {
     "data": {
      "image/png": "[encoded data removed]",
      "text/plain": [
       "<Figure size 640x480 with 1 Axes>"
      ]
     },
     "metadata": {},
     "output_type": "display_data"
    },
    {
     "data": {
      "text/plain": [
       "<Figure size 1000x500 with 0 Axes>"
      ]
     },
     "metadata": {},
     "output_type": "display_data"
    }
   ],
   "source": [
    "DbC=covid.groupby('continent')['people_fully_vaccinated'].sum()[0:6].sort_values(ascending=False)\n",
    "plt.bar(DbC.index,DbC.values, color='Brown')\n",
    "plt.title('People fully vaccinated by Continents')\n",
    "plt.figure(figsize=[10,5])\n",
    "plt.show()"
   ]
  },
  {
   "cell_type": "code",
   "execution_count": null,
   "id": "887cc0f2-ffb3-4e03-99cc-a1444e1785ef",
   "metadata": {},
   "outputs": [],
   "source": []
  },
  {
   "cell_type": "code",
   "execution_count": null,
   "id": "5ced1cb8-8aba-4d90-b1b1-50d7183a1104",
   "metadata": {},
   "outputs": [],
   "source": [
    "#70s and 60 year olds who got affected by Continents"
   ]
  },
  {
   "cell_type": "code",
   "execution_count": 19,
   "id": "e6269057-40ff-41af-af03-96fcfffe3a6f",
   "metadata": {},
   "outputs": [
    {
     "data": {
      "text/plain": [
       "<Figure size 1000x500 with 0 Axes>"
      ]
     },
     "execution_count": 19,
     "metadata": {},
     "output_type": "execute_result"
    },
    {
     "data": {
      "image/png": "[encoded data removed]",
      "text/plain": [
       "<Figure size 640x480 with 1 Axes>"
      ]
     },
     "metadata": {},
     "output_type": "display_data"
    },
    {
     "data": {
      "image/png": "[encoded data removed]",
      "text/plain": [
       "<Figure size 1000x500 with 1 Axes>"
      ]
     },
     "metadata": {},
     "output_type": "display_data"
    },
    {
     "data": {
      "text/plain": [
       "<Figure size 1000x500 with 0 Axes>"
      ]
     },
     "metadata": {},
     "output_type": "display_data"
    }
   ],
   "source": [
    "DbC=covid.groupby('continent')['aged_70_older'].sum()[0:6]\n",
    "plt.plot(DbC.index,DbC.values,color='Brown')\n",
    "plt.title('70 years olds affected')\n",
    "plt.figure(figsize=[10,5])\n",
    "\n",
    "\n",
    "DbC=covid.groupby('continent')['aged_65_older'].sum()[0:6]\n",
    "plt.plot(DbC.index,DbC.values, color='Brown')\n",
    "plt.title('65 years olds affected')\n",
    "plt.figure(figsize=[10,5])"
   ]
  },
  {
   "cell_type": "code",
   "execution_count": null,
   "id": "dadd6f3a-8b57-4d4b-81bf-e0329e062ff5",
   "metadata": {},
   "outputs": [],
   "source": []
  },
  {
   "cell_type": "code",
   "execution_count": null,
   "id": "792d87a3-5dcc-454d-9397-fc3c699594c3",
   "metadata": {},
   "outputs": [],
   "source": []
  },
  {
   "cell_type": "markdown",
   "id": "3053ceea-233b-4e1a-98ae-5fb538500df4",
   "metadata": {},
   "source": [
    "### Insights on the project"
   ]
  },
  {
   "cell_type": "code",
   "execution_count": null,
   "id": "409d61a4-d36e-4097-b2ff-ab55f0df9217",
   "metadata": {},
   "outputs": [],
   "source": [
    "#Problem Statement 1:to calculate the total positive cases of Covid,calculate the total deaths and find the pecentage of case fertiility rate\n"
   ]
  },
  {
   "cell_type": "code",
   "execution_count": null,
   "id": "a4a71327-180b-462c-adca-a4aa43919baf",
   "metadata": {},
   "outputs": [],
   "source": []
  },
  {
   "cell_type": "code",
   "execution_count": 11,
   "id": "40a3c835-4280-4fd9-a56e-37023e560fc7",
   "metadata": {},
   "outputs": [
    {
     "data": {
      "text/plain": [
       "8294940569"
      ]
     },
     "execution_count": 11,
     "metadata": {},
     "output_type": "execute_result"
    }
   ],
   "source": [
    "covid['total_deaths'].sum()"
   ]
  },
  {
   "cell_type": "code",
   "execution_count": 12,
   "id": "34047ba4-03b3-47e8-b427-04fbe37bad89",
   "metadata": {},
   "outputs": [
    {
     "data": {
      "text/plain": [
       "548591469648"
      ]
     },
     "execution_count": 12,
     "metadata": {},
     "output_type": "execute_result"
    }
   ],
   "source": [
    "covid['total_cases'].sum()\n"
   ]
  },
  {
   "cell_type": "code",
   "execution_count": 30,
   "id": "02ad5260-70b8-4965-8c2c-0da5e3a10160",
   "metadata": {},
   "outputs": [
    {
     "name": "stdout",
     "output_type": "stream",
     "text": [
      "6613.56721105641\n"
     ]
    }
   ],
   "source": [
    "total_cases=548591469648\n",
    "total_deaths=8294940569\n",
    "\n",
    "Case_Fertility_Rate=(total_cases/total_deaths)*100\n",
    "print(Case_Fertility_Rate)"
   ]
  },
  {
   "cell_type": "code",
   "execution_count": null,
   "id": "242125e2-8b75-461e-928c-141a6af4cc4e",
   "metadata": {},
   "outputs": [],
   "source": [
    "#Problem statement 2:Top 5 continents with the highest death covid cases"
   ]
  },
  {
   "cell_type": "code",
   "execution_count": 32,
   "id": "0b6b93f2-6c74-47e5-bacf-274bbcb5a813",
   "metadata": {},
   "outputs": [
    {
     "data": {
      "text/plain": [
       "continent\n",
       "Europe           771972396\n",
       "Asia             619475004\n",
       "North America    241209710\n",
       "Africa           109272573\n",
       "Oceania            3872033\n",
       "Name: total_deaths, dtype: int64"
      ]
     },
     "execution_count": 32,
     "metadata": {},
     "output_type": "execute_result"
    }
   ],
   "source": [
    "covid.groupby('continent')['total_deaths'].sum().head(5).sort_values(ascending=False)[0:6]"
   ]
  },
  {
   "cell_type": "code",
   "execution_count": null,
   "id": "527d4eed-ce06-4f41-9e52-bf01359c6604",
   "metadata": {},
   "outputs": [],
   "source": [
    "#Problem statement3:significant fluctuations in the reproduction rate (R-value) of COVID-19 transmission by countries"
   ]
  },
  {
   "cell_type": "code",
   "execution_count": 36,
   "id": "e92672ea-65f2-4941-ab45-8eade9825348",
   "metadata": {},
   "outputs": [
    {
     "data": {
      "text/plain": [
       "location\n",
       "Spain                              1059.44\n",
       "Sweden                             1056.10\n",
       "Switzerland                        1053.72\n",
       "Belgium                            1031.85\n",
       "Japan                              1013.61\n",
       "                                    ...   \n",
       "Northern Cyprus                       0.00\n",
       "Bonaire Sint Eustatius and Saba       0.00\n",
       "North Korea                           0.00\n",
       "Asia                                  0.00\n",
       "Pitcairn                              0.00\n",
       "Name: reproduction_rate, Length: 213, dtype: float64"
      ]
     },
     "execution_count": 36,
     "metadata": {},
     "output_type": "execute_result"
    }
   ],
   "source": [
    "covid.groupby('location')['reproduction_rate'].sum().sort_values(ascending=False)"
   ]
  },
  {
   "cell_type": "code",
   "execution_count": null,
   "id": "5c8deb3c-06d6-4ec0-bc6a-46b1a810edfb",
   "metadata": {},
   "outputs": [],
   "source": [
    "#the distribution of COVID-19 cases and deaths among different age groups, and how it varies across countries"
   ]
  },
  {
   "cell_type": "code",
   "execution_count": 40,
   "id": "34ce9410-7fe9-46b6-80f2-7098962f8e35",
   "metadata": {},
   "outputs": [
    {
     "data": {
      "text/plain": [
       "location\n",
       "Asia                               58864615885\n",
       "Brazil                             14992434594\n",
       "Africa                              5546296142\n",
       "Argentina                           3921143994\n",
       "Colombia                            3120044299\n",
       "Australia                           1633795719\n",
       "Chile                               1499864877\n",
       "Canada                              1490590060\n",
       "Belgium                             1476882294\n",
       "Austria                             1244721314\n",
       "Bangladesh                           957323917\n",
       "Bulgaria                             461328678\n",
       "Belarus                              421682696\n",
       "Bolivia                              407953492\n",
       "Costa Rica                           377031420\n",
       "Azerbaijan                           350786978\n",
       "Bahrain                              237045437\n",
       "China                                220823839\n",
       "Armenia                              208435979\n",
       "Bosnia and Herzegovina               178288651\n",
       "Algeria                              135841853\n",
       "Albania                              127874585\n",
       "Botswana                             114484220\n",
       "Afghanistan                           94434969\n",
       "Cameroon                              61999397\n",
       "Cambodia                              55487975\n",
       "Cote d'Ivoire                         42846275\n",
       "Angola                                41979078\n",
       "Brunei                                35808978\n",
       "Cape Verde                            26653152\n",
       "Belize                                22122648\n",
       "Barbados                              21551719\n",
       "Andorra                               16381421\n",
       "Bahamas                               15025901\n",
       "Aruba                                 14485683\n",
       "Burundi                               14219078\n",
       "Benin                                 12075998\n",
       "Congo                                 11801044\n",
       "Bhutan                                11530520\n",
       "Burkina Faso                          10782776\n",
       "Central African Republic               7703547\n",
       "Cayman Islands                         6569421\n",
       "Bermuda                                4755291\n",
       "Chad                                   3884096\n",
       "Comoros                                3597812\n",
       "Bonaire Sint Eustatius and Saba        2929764\n",
       "Antigua and Barbuda                    2735856\n",
       "British Virgin Islands                 2178730\n",
       "Cook Islands                            957755\n",
       "Anguilla                                911126\n",
       "Name: total_cases, dtype: int64"
      ]
     },
     "execution_count": 40,
     "metadata": {},
     "output_type": "execute_result"
    }
   ],
   "source": [
    "covid.groupby('location')['total_cases'].sum().head(50).sort_values(ascending=False)"
   ]
  },
  {
   "cell_type": "code",
   "execution_count": null,
   "id": "7097c539-72bc-4337-aa62-6a110153aecd",
   "metadata": {},
   "outputs": [],
   "source": []
  },
  {
   "cell_type": "code",
   "execution_count": null,
   "id": "5234f6f6-7cd2-44b2-bc44-a0d5b524628c",
   "metadata": {},
   "outputs": [],
   "source": [
    "#Top 20 of people who fully vaccinated by country"
   ]
  },
  {
   "cell_type": "code",
   "execution_count": 38,
   "id": "6bfc2f1c-2a39-4ec8-aa7d-82a5a467649f",
   "metadata": {},
   "outputs": [
    {
     "data": {
      "text/plain": [
       "location\n",
       "Asia                   1111425712780\n",
       "Africa                   70342326626\n",
       "Argentina                13548982202\n",
       "Bangladesh               11708692531\n",
       "Australia                 7054216507\n",
       "Azerbaijan                1369509333\n",
       "Austria                   1344743548\n",
       "Bahrain                    458764434\n",
       "Afghanistan                235155634\n",
       "Angola                     210211034\n",
       "Belarus                    151647880\n",
       "Albania                    147389330\n",
       "Algeria                    118139940\n",
       "Barbados                    56317916\n",
       "Aruba                       27566044\n",
       "Armenia                     18970719\n",
       "Bahamas                      5003996\n",
       "Antigua and Barbuda          3118070\n",
       "Andorra                      1557055\n",
       "Anguilla                      399650\n",
       "Name: people_fully_vaccinated, dtype: int64"
      ]
     },
     "execution_count": 38,
     "metadata": {},
     "output_type": "execute_result"
    }
   ],
   "source": [
    "covid.groupby('location')['people_fully_vaccinated'].sum().head(20).sort_values(ascending=False)"
   ]
  },
  {
   "cell_type": "code",
   "execution_count": null,
   "id": "50f4857f-5a14-4cac-9c4a-d67d629b0638",
   "metadata": {},
   "outputs": [],
   "source": [
    "covid.to_csv('covid,csv'index=False)"
   ]
  },
  {
   "cell_type": "code",
   "execution_count": null,
   "id": "dddcef06-d116-49ee-b141-d87ebc3db35b",
   "metadata": {},
   "outputs": [],
   "source": []
  },
  {
   "cell_type": "code",
   "execution_count": null,
   "id": "844e9934-0a5b-4d32-964f-eb7da96332f4",
   "metadata": {},
   "outputs": [],
   "source": []
  },
  {
   "cell_type": "code",
   "execution_count": null,
   "id": "79636bbd-af69-4cc5-b5f2-1d7af41937b5",
   "metadata": {},
   "outputs": [],
   "source": []
  },
  {
   "cell_type": "code",
   "execution_count": null,
   "id": "b3bec38d-89db-49cd-9994-58e0e8abe647",
   "metadata": {},
   "outputs": [],
   "source": []
  },
  {
   "cell_type": "code",
   "execution_count": null,
   "id": "4c9d22a8-98ad-4bda-b455-31a1a6958cd3",
   "metadata": {},
   "outputs": [],
   "source": []
  },
  {
   "cell_type": "code",
   "execution_count": null,
   "id": "f0a71051-5fdb-45f1-9b1c-89e7715e189c",
   "metadata": {},
   "outputs": [],
   "source": []
  },
  {
   "cell_type": "code",
   "execution_count": null,
   "id": "427ae0d2-45c3-4244-9b53-4818565ce3c1",
   "metadata": {},
   "outputs": [],
   "source": []
  },
  {
   "cell_type": "code",
   "execution_count": null,
   "id": "ce7c3c06-45d0-46aa-ba9e-3c9519ba5608",
   "metadata": {},
   "outputs": [],
   "source": []
  },
  {
   "cell_type": "code",
   "execution_count": null,
   "id": "16e2eab1-13ab-47c5-931a-7cea90682fbe",
   "metadata": {},
   "outputs": [],
   "source": []
  },
  {
   "cell_type": "code",
   "execution_count": null,
   "id": "080c7a13-6352-4c73-a9fa-0b16ff130fd0",
   "metadata": {},
   "outputs": [],
   "source": []
  },
  {
   "cell_type": "code",
   "execution_count": null,
   "id": "4f8a6b04-1fa9-4b22-babd-37d4e8b240e4",
   "metadata": {},
   "outputs": [],
   "source": []
  },
  {
   "cell_type": "code",
   "execution_count": null,
   "id": "f627d812-1483-412c-bca8-c7e22c2d7bbe",
   "metadata": {},
   "outputs": [],
   "source": []
  },
  {
   "cell_type": "code",
   "execution_count": null,
   "id": "6f7c7c2e-e681-42c6-9fc0-8668728e6aa0",
   "metadata": {},
   "outputs": [],
   "source": []
  }
 ],
 "metadata": {
  "kernelspec": {
   "display_name": "Python 3 (ipykernel)",
   "language": "python",
   "name": "python3"
  },
  "language_info": {
   "codemirror_mode": {
    "name": "ipython",
    "version": 3
   },
   "file_extension": ".py",
   "mimetype": "text/x-python",
   "name": "python",
   "nbconvert_exporter": "python",
   "pygments_lexer": "ipython3",
   "version": "3.12.7"
  }
 },
 "nbformat": 4,
 "nbformat_minor": 5
}
